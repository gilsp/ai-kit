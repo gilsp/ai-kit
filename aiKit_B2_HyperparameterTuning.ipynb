{
 "cells": [
  {
   "cell_type": "markdown",
   "metadata": {},
   "source": [
    "# AI Kit\n",
    "\n",
    "This jupyter notebook series constitutes a miscellaneous collection of code-snippeds for generic tasks in ML/DL-projects. The purpose is to speed up and ease model development by providing content for copying / pasting / and further customization. Each section constitutes a separat jupyter notebook.\n",
    "\n",
    "#### A - BASICS\n",
    "1. **Data Preprocessing** - Imputation, Normalization\n",
    "2. **Oulier Detection** - Univariate Z-Score, Isolation Forest, Elliptic Envelope, DBSCAN\n",
    "3. **Dimensionality Reduction** - PCA, tSNE\n",
    "\n",
    "#### B - MACHINE LEARNING (SkLearn)\n",
    "1. **Model Selection** - Benchmarking Algorithms with default Hyperparameters\n",
    "2. **Hyperparamter Tuning** - Random Search, Learning Curves\n",
    "\n",
    "#### C - DEEP LEARNING (Keras)\n",
    "1. **Neural Nets** - Keras Sequential Model\n",
    "2. **CNNs** - from Scratch, Transferlearning\n",
    "3. **RNNs** - from Scratch, Transferlearning\n",
    "4. **Complex Model Graphs** - Functional Keras API"
   ]
  },
  {
   "cell_type": "markdown",
   "metadata": {},
   "source": [
    "## Notebook B2 - Hyperparameter Tuning\n",
    "\n",
    "* [**Preprocess Data**](#pd)\n",
    "* [**SvmRBF**](#svm)\n",
    "* [**Gradient Boosting**](#gb)"
   ]
  },
  {
   "cell_type": "markdown",
   "metadata": {},
   "source": [
    "### Preprocess Data <a name=\"pd\"></a>\n",
    "\n",
    "For details refer to previous notebook 1_DataPreprocessing"
   ]
  },
  {
   "cell_type": "code",
   "execution_count": 6,
   "metadata": {},
   "outputs": [],
   "source": [
    "import numpy as np\n",
    "import pandas as pd\n",
    "import seaborn as sns\n",
    "from matplotlib import pyplot as plt\n",
    "\n",
    "%matplotlib inline\n",
    "\n",
    "titanic = sns.load_dataset('titanic')\n",
    "\n",
    "# Directly remove features 'alive' and 'embark_town' which duplicate 'survived' and 'embark'\n",
    "titanic = titanic.drop(columns=['embark_town', 'alive'])\n",
    "\n",
    "# Drop feature 'deck' with too many NAs\n",
    "titanic = titanic.drop(columns='deck')\n",
    "\n",
    "# Impute age with average\n",
    "titanic.loc[titanic.age.isna(), 'age'] = titanic.age.mean()\n",
    "\n",
    "# Impute embarked with most frequent\n",
    "titanic.embarked.value_counts()\n",
    "\n",
    "# One hot encode categorical features\n",
    "titanic_categorical = titanic.loc[:, (titanic.dtypes=='object') | (titanic.dtypes=='category')]\n",
    "titanic = titanic.drop(columns=titanic_categorical.columns)\n",
    "titanic = titanic.join(pd.get_dummies(titanic_categorical, drop_first=True))\n",
    "\n",
    "# Convert everything to float32\n",
    "titanic = titanic.astype('float32')\n",
    "titanic.head()\n",
    "\n",
    "# Lognormalize 'price'\n",
    "titanic['fare'] = np.log(titanic.fare+1)\n",
    "\n",
    "# Normalize non-categorical features\n",
    "titanic.loc[:, 'pclass':'fare'] = (titanic.loc[:, 'pclass':'fare'] - titanic.loc[:, 'pclass':'fare'].mean()) /\\\n",
    "                                                                     titanic.loc[:, 'pclass':'fare'].std()"
   ]
  },
  {
   "cell_type": "markdown",
   "metadata": {},
   "source": [
    "### SvmRBF <a name=\"svm\"></a>\n",
    "\n",
    "The highest accuracy-levels for survival (yes/no) by non-tuned algorithms (with default hyperparameters) were attained by SvmRBF and GradientBoost (see last notebook 4_ModelSelection). Hence, we restrict our attaintion on these two algorithms and try to attain higher levels of accuracy by finding more optimized hyperparamter values."
   ]
  },
  {
   "cell_type": "code",
   "execution_count": 19,
   "metadata": {},
   "outputs": [
    {
     "data": {
      "text/plain": [
       "0.8208955223880597"
      ]
     },
     "execution_count": 19,
     "metadata": {},
     "output_type": "execute_result"
    }
   ],
   "source": [
    "from sklearn.svm import SVC\n",
    "from sklearn.metrics import accuracy_score\n",
    "from sklearn.model_selection import train_test_split\n",
    "from sklearn.model_selection import RandomizedSearchCV\n",
    "\n",
    "# train_test_split() deploys shuffle=True per default\n",
    "X_train, X_test, y_train, y_test = \\\n",
    "        train_test_split(titanic.drop('survived', axis=1), titanic.survived, test_size=0.3, random_state=42)\n",
    "\n",
    "# Specify hyperparamter grid as dictionary ('hyperparameter name': values)\n",
    "param_grid = {'C':np.arange(.5,1.5,.1), 'gamma':np.arange(.01,.1,.01)}\n",
    "\n",
    "# Set up gridsearch with 5-fold crossvalidation (cv=5)\n",
    "svr = RandomizedSearchCV(SVC(kernel='rbf', random_state=42), param_grid, scoring='accuracy', cv=5, n_iter=50)\n",
    "\n",
    "# Conduct gridsearch\n",
    "svr.fit(X_train, y_train)\n",
    "\n",
    "# Accuracy on test data for best fit\n",
    "accuracy_score(svr.predict(X_test), y_test)"
   ]
  },
  {
   "cell_type": "code",
   "execution_count": 53,
   "metadata": {},
   "outputs": [
    {
     "data": {
      "text/plain": [
       "SVC(C=1.1999999999999997, cache_size=200, class_weight=None, coef0=0.0,\n",
       "  decision_function_shape='ovr', degree=3, gamma=0.02, kernel='rbf',\n",
       "  max_iter=-1, probability=False, random_state=42, shrinking=True,\n",
       "  tol=0.001, verbose=False)"
      ]
     },
     "execution_count": 53,
     "metadata": {},
     "output_type": "execute_result"
    }
   ],
   "source": [
    "svr.best_estimator_"
   ]
  },
  {
   "cell_type": "code",
   "execution_count": 54,
   "metadata": {},
   "outputs": [
    {
     "data": {
      "image/png": "[encoded data removed]",
      "text/plain": [
       "<matplotlib.figure.Figure at 0x20e288b69e8>"
      ]
     },
     "metadata": {},
     "output_type": "display_data"
    }
   ],
   "source": [
    "from sklearn.model_selection import learning_curve\n",
    "\n",
    "train_sizes, train_scores, validation_scores = learning_curve(svr.best_estimator_, \\\n",
    "                                                      X_train, y_train, cv=5, n_jobs=None, train_sizes=np.arange(.1,1,.1))\n",
    "\n",
    "ax = sns.lineplot(x=train_sizes, y=np.mean(train_scores, axis=1))\n",
    "ax = sns.lineplot(x=train_sizes, y=np.mean(validation_scores, axis=1))"
   ]
  },
  {
   "cell_type": "markdown",
   "metadata": {},
   "source": [
    "### Gradient Boosting <a name=\"gb\"></a>"
   ]
  },
  {
   "cell_type": "code",
   "execution_count": 31,
   "metadata": {},
   "outputs": [
    {
     "data": {
      "text/plain": [
       "0.8097014925373134"
      ]
     },
     "execution_count": 31,
     "metadata": {},
     "output_type": "execute_result"
    }
   ],
   "source": [
    "from sklearn.ensemble import GradientBoostingClassifier\n",
    "\n",
    "# Specify hyperparamter grid as dictionary ('hyperparameter name': values)\n",
    "param_grid = {'learning_rate':np.arange(.05,.15,.01), 'n_estimators':np.arange(100,600,100), 'max_depth':np.arange(2,5,1)}\n",
    "\n",
    "# Set up gridsearch with 5-fold crossvalidation (cv=5)\n",
    "gb = RandomizedSearchCV(GradientBoostingClassifier(random_state=42), param_grid, scoring='accuracy', cv=5, n_iter=50)\n",
    "\n",
    "# Conduct gridsearch\n",
    "gb.fit(X_train, y_train)\n",
    "\n",
    "# Accuracy on test data for best fit\n",
    "accuracy_score(gb.predict(X_test), y_test)"
   ]
  },
  {
   "cell_type": "code",
   "execution_count": 55,
   "metadata": {},
   "outputs": [
    {
     "data": {
      "image/png": "[encoded data removed]",
      "text/plain": [
       "<matplotlib.figure.Figure at 0x20e2890c9b0>"
      ]
     },
     "metadata": {},
     "output_type": "display_data"
    }
   ],
   "source": [
    "train_sizes, train_scores, validation_scores = learning_curve(gb.best_estimator_, \\\n",
    "                                                      X_train, y_train, cv=5, n_jobs=None, train_sizes=np.arange(.1,1,.1))\n",
    "\n",
    "ax = sns.lineplot(x=train_sizes, y=np.mean(train_scores, axis=1))\n",
    "ax = sns.lineplot(x=train_sizes, y=np.mean(validation_scores, axis=1))"
   ]
  }
 ],
 "metadata": {
  "kernelspec": {
   "display_name": "Python 3",
   "language": "python",
   "name": "python3"
  },
  "language_info": {
   "codemirror_mode": {
    "name": "ipython",
    "version": 3
   },
   "file_extension": ".py",
   "mimetype": "text/x-python",
   "name": "python",
   "nbconvert_exporter": "python",
   "pygments_lexer": "ipython3",
   "version": "3.6.4"
  }
 },
 "nbformat": 4,
 "nbformat_minor": 2
}
